{
 "cells": [
  {
   "cell_type": "code",
   "execution_count": null,
   "metadata": {},
   "outputs": [],
   "source": [
    "import sys\n",
    "sys.path.append('..')\n",
    "from MNIST.util import scale\n",
    "from MNIST.optimizer import SGD, Momentum, AdaGrad, RMSprop, Adam\n",
    "from MNIST.dropout import Dropout"
   ]
  },
  {
   "cell_type": "code",
   "execution_count": null,
   "metadata": {},
   "outputs": [],
   "source": [
    "import numpy as np\n",
    "from PTB.dataset import get_vocab, url, file_names\n",
    "from PTB.embedding import TEmbedding\n",
    "from PTB.lstm import TLSTM\n",
    "from PTB.affine import Affine\n",
    "from PTB.softmaxWithLoss import SoftmaxWithLoss\n",
    "from PTB.model import Model\n",
    "from PTB.trainer import Trainer"
   ]
  },
  {
   "cell_type": "code",
   "execution_count": null,
   "metadata": {},
   "outputs": [],
   "source": [
    "#データ取得\n",
    "corpus, word_to_id, id_to_word = get_vocab(url, file_names[0])\n",
    "corpus = corpus[:5000]\n",
    "vocab_size = max(corpus) + 1\n",
    "xs = corpus[:-1]\n",
    "ts = corpus[1:]\n",
    "print(vocab_size)"
   ]
  },
  {
   "cell_type": "code",
   "execution_count": null,
   "metadata": {},
   "outputs": [],
   "source": [
    "#学習\n",
    "wordvec_size = 100\n",
    "hidden_size = 100\n",
    "epoch_size = 200\n",
    "batch_size = 10\n",
    "time_size = 30\n",
    "m = Model()\n",
    "m.append(TEmbedding(scale(vocab_size) * np.random.randn(vocab_size, wordvec_size)))\n",
    "m.append(TLSTM(scale(wordvec_size) * np.random.randn(wordvec_size, hidden_size * 4),\n",
    "               scale(hidden_size) * np.random.randn(hidden_size, hidden_size * 4),\n",
    "               np.zeros(hidden_size * 4),\n",
    "               stateful=True))\n",
    "m.append(Affine(scale(hidden_size) * np.random.randn(hidden_size, vocab_size), np.zeros(vocab_size)))\n",
    "m.append_loss(SoftmaxWithLoss())\n",
    "m.summary()\n",
    "T = Trainer(m, AdaGrad(lr=0.1))\n",
    "T.fit(xs, ts, epoch_size, batch_size, time_size)"
   ]
  }
 ],
 "metadata": {
  "kernelspec": {
   "display_name": "Python 3",
   "language": "python",
   "name": "python3"
  },
  "language_info": {
   "codemirror_mode": {
    "name": "ipython",
    "version": 3
   },
   "file_extension": ".py",
   "mimetype": "text/x-python",
   "name": "python",
   "nbconvert_exporter": "python",
   "pygments_lexer": "ipython3",
   "version": "3.7.3"
  }
 },
 "nbformat": 4,
 "nbformat_minor": 2
}
